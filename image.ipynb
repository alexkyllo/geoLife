{
 "metadata": {
  "language_info": {
   "codemirror_mode": {
    "name": "ipython",
    "version": 3
   },
   "file_extension": ".py",
   "mimetype": "text/x-python",
   "name": "python",
   "nbconvert_exporter": "python",
   "pygments_lexer": "ipython3",
   "version": "3.7.8-final"
  },
  "orig_nbformat": 2,
  "kernelspec": {
   "name": "python3",
   "display_name": "Python 3"
  }
 },
 "nbformat": 4,
 "nbformat_minor": 2,
 "cells": [
  {
   "cell_type": "code",
   "execution_count": 1,
   "metadata": {},
   "outputs": [],
   "source": [
    "from PIL import Image\n",
    "import heatmap as hp \n",
    "from pathlib import Path\n",
    "import os\n",
    "\n",
    "# Static\n",
    "cell_size = 0.1 # square miles\n",
    "LengthPixel = 15\n",
    "WidthPixel = 23"
   ]
  },
  {
   "cell_type": "code",
   "execution_count": 2,
   "metadata": {},
   "outputs": [],
   "source": [
    "df = hp.getFreqInMonth('split_by_month_output/000/2008_10.csv', cell_size, WidthPixel, LengthPixel)"
   ]
  },
  {
   "cell_type": "code",
   "execution_count": 3,
   "metadata": {},
   "outputs": [
    {
     "output_type": "execute_result",
     "data": {
      "text/plain": [
       "         0         1         2         3         4         5         6   \\\n",
       "0  0.000000  0.184141  0.348540  0.000000  0.000000  0.000000  0.000000   \n",
       "1  0.269762  0.429917  0.368282  0.416501  0.368282  0.385942  0.385942   \n",
       "2  0.232360  0.401917  0.000000  0.116180  0.116180  0.000000  0.300321   \n",
       "3  0.000000  0.401917  0.000000  0.000000  0.000000  0.000000  0.184141   \n",
       "4  0.000000  0.401917  0.000000  0.000000  0.000000  0.000000  0.184141   \n",
       "\n",
       "         7         8         9         10        11        12        13  \\\n",
       "0  0.000000  0.401917  0.000000  0.000000  0.000000  0.000000  0.000000   \n",
       "1  0.184141  0.659023  0.600642  0.429917  0.442339  0.348540  0.416501   \n",
       "2  0.000000  0.000000  0.000000  0.348540  0.539523  0.385942  0.385942   \n",
       "3  0.000000  0.000000  0.000000  0.000000  0.442339  0.000000  0.000000   \n",
       "4  0.000000  0.000000  0.000000  0.000000  0.269762  0.000000  0.000000   \n",
       "\n",
       "         14  \n",
       "0  0.000000  \n",
       "1  0.269762  \n",
       "2  0.232360  \n",
       "3  0.000000  \n",
       "4  0.000000  "
      ],
      "text/html": "<div>\n<style scoped>\n    .dataframe tbody tr th:only-of-type {\n        vertical-align: middle;\n    }\n\n    .dataframe tbody tr th {\n        vertical-align: top;\n    }\n\n    .dataframe thead th {\n        text-align: right;\n    }\n</style>\n<table border=\"1\" class=\"dataframe\">\n  <thead>\n    <tr style=\"text-align: right;\">\n      <th></th>\n      <th>0</th>\n      <th>1</th>\n      <th>2</th>\n      <th>3</th>\n      <th>4</th>\n      <th>5</th>\n      <th>6</th>\n      <th>7</th>\n      <th>8</th>\n      <th>9</th>\n      <th>10</th>\n      <th>11</th>\n      <th>12</th>\n      <th>13</th>\n      <th>14</th>\n    </tr>\n  </thead>\n  <tbody>\n    <tr>\n      <th>0</th>\n      <td>0.000000</td>\n      <td>0.184141</td>\n      <td>0.348540</td>\n      <td>0.000000</td>\n      <td>0.000000</td>\n      <td>0.000000</td>\n      <td>0.000000</td>\n      <td>0.000000</td>\n      <td>0.401917</td>\n      <td>0.000000</td>\n      <td>0.000000</td>\n      <td>0.000000</td>\n      <td>0.000000</td>\n      <td>0.000000</td>\n      <td>0.000000</td>\n    </tr>\n    <tr>\n      <th>1</th>\n      <td>0.269762</td>\n      <td>0.429917</td>\n      <td>0.368282</td>\n      <td>0.416501</td>\n      <td>0.368282</td>\n      <td>0.385942</td>\n      <td>0.385942</td>\n      <td>0.184141</td>\n      <td>0.659023</td>\n      <td>0.600642</td>\n      <td>0.429917</td>\n      <td>0.442339</td>\n      <td>0.348540</td>\n      <td>0.416501</td>\n      <td>0.269762</td>\n    </tr>\n    <tr>\n      <th>2</th>\n      <td>0.232360</td>\n      <td>0.401917</td>\n      <td>0.000000</td>\n      <td>0.116180</td>\n      <td>0.116180</td>\n      <td>0.000000</td>\n      <td>0.300321</td>\n      <td>0.000000</td>\n      <td>0.000000</td>\n      <td>0.000000</td>\n      <td>0.348540</td>\n      <td>0.539523</td>\n      <td>0.385942</td>\n      <td>0.385942</td>\n      <td>0.232360</td>\n    </tr>\n    <tr>\n      <th>3</th>\n      <td>0.000000</td>\n      <td>0.401917</td>\n      <td>0.000000</td>\n      <td>0.000000</td>\n      <td>0.000000</td>\n      <td>0.000000</td>\n      <td>0.184141</td>\n      <td>0.000000</td>\n      <td>0.000000</td>\n      <td>0.000000</td>\n      <td>0.000000</td>\n      <td>0.442339</td>\n      <td>0.000000</td>\n      <td>0.000000</td>\n      <td>0.000000</td>\n    </tr>\n    <tr>\n      <th>4</th>\n      <td>0.000000</td>\n      <td>0.401917</td>\n      <td>0.000000</td>\n      <td>0.000000</td>\n      <td>0.000000</td>\n      <td>0.000000</td>\n      <td>0.184141</td>\n      <td>0.000000</td>\n      <td>0.000000</td>\n      <td>0.000000</td>\n      <td>0.000000</td>\n      <td>0.269762</td>\n      <td>0.000000</td>\n      <td>0.000000</td>\n      <td>0.000000</td>\n    </tr>\n  </tbody>\n</table>\n</div>"
     },
     "metadata": {},
     "execution_count": 3
    }
   ],
   "source": [
    "df.head()"
   ]
  },
  {
   "cell_type": "code",
   "execution_count": 17,
   "metadata": {},
   "outputs": [],
   "source": [
    "img = Image.new('RGB', (WidthPixel, LengthPixel), color = 'black')\n",
    "pixels = img.load()\n",
    "\n",
    "for i in range(img.size[0]):\n",
    "    for j in range(img.size[1]):\n",
    "        test = int(255*df.loc[i,j])\n",
    "        pixels[i,j] = (test, test, test)\n",
    "\n",
    "img.save('pil_red.png')"
   ]
  },
  {
   "cell_type": "code",
   "execution_count": 16,
   "metadata": {},
   "outputs": [
    {
     "output_type": "stream",
     "name": "stdout",
     "text": [
      "(14, 0, 93)\n"
     ]
    }
   ],
   "source": [
    "print(pixels[14,0])"
   ]
  },
  {
   "cell_type": "code",
   "execution_count": null,
   "metadata": {},
   "outputs": [],
   "source": []
  }
 ]
}