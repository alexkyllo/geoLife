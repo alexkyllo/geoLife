{
 "metadata": {
  "language_info": {
   "codemirror_mode": {
    "name": "ipython",
    "version": 3
   },
   "file_extension": ".py",
   "mimetype": "text/x-python",
   "name": "python",
   "nbconvert_exporter": "python",
   "pygments_lexer": "ipython3",
   "version": "3.7.8-final"
  },
  "orig_nbformat": 2,
  "kernelspec": {
   "name": "python3",
   "display_name": "Python 3.7.8 64-bit ('geoLife': conda)",
   "metadata": {
    "interpreter": {
     "hash": "5e2402205bcc108e2ecb8982a38892d92387423499bc6797f25b9a0d1e2505cb"
    }
   }
  }
 },
 "nbformat": 4,
 "nbformat_minor": 2,
 "cells": [
  {
   "cell_type": "code",
   "execution_count": 1,
   "metadata": {},
   "outputs": [],
   "source": [
    "# Import Functions\n",
    "import pandas as pd\n",
    "import numpy as np\n",
    "import matplotlib.pyplot as plt\n",
    "import geopandas as gp"
   ]
  },
  {
   "cell_type": "code",
   "execution_count": 2,
   "metadata": {
    "tags": []
   },
   "outputs": [
    {
     "output_type": "stream",
     "name": "stdout",
     "text": [
      "/home/jeffmur/dev/urbanDataR/geolife\n/home/jeffmur/dev/urbanDataR/geolife/Data/\n"
     ]
    }
   ],
   "source": [
    "import os\n",
    "from pathlib import Path\n",
    "currentDir = os.getcwd()\n",
    "print(currentDir)\n",
    "\n",
    "dataDir = os.path.join(currentDir, 'Data/')\n",
    "print(dataDir)\n",
    "\n",
    "parseDir = Path(dataDir).rglob('*.plt')\n",
    "files = [x for x in parseDir]"
   ]
  },
  {
   "cell_type": "code",
   "execution_count": 3,
   "metadata": {},
   "outputs": [],
   "source": [
    "dfs = [pd.read_table(f, skiprows = 5, sep = \",\", names=['Latitude', 'Longitude', 'Zero', 'Altitude', 'Num of Days', 'Date', 'Time']) for f in files]\n",
    "\n",
    "raw_users = pd.concat(dfs, ignore_index=True)\n",
    "\n",
    "raw_users = raw_users.drop(['Num of Days','Zero'], axis=1)"
   ]
  },
  {
   "cell_type": "code",
   "execution_count": 4,
   "metadata": {},
   "outputs": [
    {
     "output_type": "execute_result",
     "data": {
      "text/plain": [
       "           Latitude   Longitude  Altitude        Date      Time\n",
       "1         39.977633  116.360098     259.2  2008-11-21  04:15:26\n",
       "2         39.977633  116.360098     259.2  2008-11-21  04:15:28\n",
       "3         39.977633  116.360098     259.2  2008-11-21  04:15:30\n",
       "4         39.977612  116.360077     259.2  2008-11-21  04:15:33\n",
       "5         39.977593  116.360063     259.2  2008-11-21  04:15:36\n",
       "...             ...         ...       ...         ...       ...\n",
       "24895643  39.986595  116.448735      14.0  2010-05-12  12:26:20\n",
       "24895644  39.986589  116.448731      34.0  2010-05-12  12:26:22\n",
       "24895645  39.986669  116.448795      40.0  2010-05-12  12:26:27\n",
       "24895646  39.986723  116.448879      39.0  2010-05-12  12:26:32\n",
       "24895647  39.986715  116.448992      54.0  2010-05-12  12:26:37\n",
       "\n",
       "[24876978 rows x 5 columns]"
      ],
      "text/html": "<div>\n<style scoped>\n    .dataframe tbody tr th:only-of-type {\n        vertical-align: middle;\n    }\n\n    .dataframe tbody tr th {\n        vertical-align: top;\n    }\n\n    .dataframe thead th {\n        text-align: right;\n    }\n</style>\n<table border=\"1\" class=\"dataframe\">\n  <thead>\n    <tr style=\"text-align: right;\">\n      <th></th>\n      <th>Latitude</th>\n      <th>Longitude</th>\n      <th>Altitude</th>\n      <th>Date</th>\n      <th>Time</th>\n    </tr>\n  </thead>\n  <tbody>\n    <tr>\n      <th>1</th>\n      <td>39.977633</td>\n      <td>116.360098</td>\n      <td>259.2</td>\n      <td>2008-11-21</td>\n      <td>04:15:26</td>\n    </tr>\n    <tr>\n      <th>2</th>\n      <td>39.977633</td>\n      <td>116.360098</td>\n      <td>259.2</td>\n      <td>2008-11-21</td>\n      <td>04:15:28</td>\n    </tr>\n    <tr>\n      <th>3</th>\n      <td>39.977633</td>\n      <td>116.360098</td>\n      <td>259.2</td>\n      <td>2008-11-21</td>\n      <td>04:15:30</td>\n    </tr>\n    <tr>\n      <th>4</th>\n      <td>39.977612</td>\n      <td>116.360077</td>\n      <td>259.2</td>\n      <td>2008-11-21</td>\n      <td>04:15:33</td>\n    </tr>\n    <tr>\n      <th>5</th>\n      <td>39.977593</td>\n      <td>116.360063</td>\n      <td>259.2</td>\n      <td>2008-11-21</td>\n      <td>04:15:36</td>\n    </tr>\n    <tr>\n      <th>...</th>\n      <td>...</td>\n      <td>...</td>\n      <td>...</td>\n      <td>...</td>\n      <td>...</td>\n    </tr>\n    <tr>\n      <th>24895643</th>\n      <td>39.986595</td>\n      <td>116.448735</td>\n      <td>14.0</td>\n      <td>2010-05-12</td>\n      <td>12:26:20</td>\n    </tr>\n    <tr>\n      <th>24895644</th>\n      <td>39.986589</td>\n      <td>116.448731</td>\n      <td>34.0</td>\n      <td>2010-05-12</td>\n      <td>12:26:22</td>\n    </tr>\n    <tr>\n      <th>24895645</th>\n      <td>39.986669</td>\n      <td>116.448795</td>\n      <td>40.0</td>\n      <td>2010-05-12</td>\n      <td>12:26:27</td>\n    </tr>\n    <tr>\n      <th>24895646</th>\n      <td>39.986723</td>\n      <td>116.448879</td>\n      <td>39.0</td>\n      <td>2010-05-12</td>\n      <td>12:26:32</td>\n    </tr>\n    <tr>\n      <th>24895647</th>\n      <td>39.986715</td>\n      <td>116.448992</td>\n      <td>54.0</td>\n      <td>2010-05-12</td>\n      <td>12:26:37</td>\n    </tr>\n  </tbody>\n</table>\n<p>24876978 rows × 5 columns</p>\n</div>"
     },
     "metadata": {},
     "execution_count": 4
    }
   ],
   "source": [
    "df = raw_users\n",
    "df = df.replace(0, np.nan)\n",
    "df = df.dropna(how='all', axis=0)\n",
    "df = df.replace(np.nan, 0)\n",
    "\n",
    "df"
   ]
  },
  {
   "cell_type": "code",
   "execution_count": 5,
   "metadata": {},
   "outputs": [
    {
     "output_type": "stream",
     "name": "stdout",
     "text": [
      "Latidude \t Max: 400.166666666667  \t Min: 1.044024\nLongitude \t Max: 179.99694159999999 \t Min: -179.9695933\n"
     ]
    }
   ],
   "source": [
    "# Create Bounding Box\n",
    "maxLat = max(df['Latitude'])\n",
    "minLat = min(df['Latitude'])\n",
    "maxLon = max(df['Longitude'])\n",
    "minLon = min(df['Longitude'])\n",
    "\n",
    "print(f\"Latidude \\t Max: {maxLat}  \\t Min: {minLat}\")\n",
    "print(f\"Longitude \\t Max: {maxLon} \\t Min: {minLon}\")"
   ]
  },
  {
   "cell_type": "code",
   "execution_count": null,
   "metadata": {},
   "outputs": [],
   "source": []
  }
 ]
}